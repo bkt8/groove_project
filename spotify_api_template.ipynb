{
 "cells": [
  {
   "cell_type": "code",
   "execution_count": null,
   "id": "220c9033",
   "metadata": {
    "vscode": {
     "languageId": "plaintext"
    }
   },
   "outputs": [],
   "source": [
    "# ✅ Colab用：必要ライブラリをインストール（初回のみ）\n",
    "!pip install spotipy python-dotenv\n",
    "\n",
    "# ✅ ライブラリ読み込み\n",
    "import spotipy\n",
    "from spotipy.oauth2 import SpotifyClientCredentials\n",
    "import os\n",
    "\n",
    "# ✅ 手動でトークンを埋め込む（.envは使わず）\n",
    "os.environ[\"SPOTIPY_CLIENT_ID\"] = \"your_client_id\"\n",
    "os.environ[\"SPOTIPY_CLIENT_SECRET\"] = \"your_client_secret\"\n",
    "\n",
    "# ✅ 認証マネージャー作成\n",
    "auth_manager = SpotifyClientCredentials()\n",
    "sp = spotipy.Spotify(auth_manager=auth_manager)\n",
    "\n",
    "# ✅ 任意のアーティスト名で検索（例：サカナクション）\n",
    "query = \"サカナクション\"\n",
    "result = sp.search(q=query, type=\"artist\", limit=1)\n",
    "\n",
    "# ✅ 検索結果の表示\n",
    "artist = result['artists']['items'][0]\n",
    "print(f\"アーティスト名: {artist['name']}\")\n",
    "print(f\"フォロワー数: {artist['followers']['total']:,}\")\n",
    "print(f\"Spotifyページ: {artist['external_urls']['spotify']}\")\n"
   ]
  },
  {
   "cell_type": "code",
   "execution_count": null,
   "id": "1701b779",
   "metadata": {
    "vscode": {
     "languageId": "plaintext"
    }
   },
   "outputs": [],
   "source": []
  }
 ],
 "metadata": {
  "language_info": {
   "name": "python"
  }
 },
 "nbformat": 4,
 "nbformat_minor": 5
}
