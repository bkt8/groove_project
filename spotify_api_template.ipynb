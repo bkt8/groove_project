{
  "cells": [
    {
      "cell_type": "code",
      "execution_count": null,
      "id": "220c9033",
      "metadata": {
        "vscode": {
          "languageId": "plaintext"
        },
        "id": "220c9033",
        "outputId": "17207c7e-3450-44bc-d0e9-7b01664a8bbd",
        "colab": {
          "base_uri": "https://localhost:8080/"
        }
      },
      "outputs": [
        {
          "output_type": "stream",
          "name": "stdout",
          "text": [
            "Collecting spotipy\n",
            "  Downloading spotipy-2.25.1-py3-none-any.whl.metadata (5.1 kB)\n",
            "Collecting python-dotenv\n",
            "  Downloading python_dotenv-1.1.0-py3-none-any.whl.metadata (24 kB)\n",
            "Collecting redis>=3.5.3 (from spotipy)\n",
            "  Downloading redis-6.0.0-py3-none-any.whl.metadata (10 kB)\n",
            "Requirement already satisfied: requests>=2.25.0 in /usr/local/lib/python3.11/dist-packages (from spotipy) (2.32.3)\n",
            "Requirement already satisfied: urllib3>=1.26.0 in /usr/local/lib/python3.11/dist-packages (from spotipy) (2.4.0)\n",
            "Requirement already satisfied: charset-normalizer<4,>=2 in /usr/local/lib/python3.11/dist-packages (from requests>=2.25.0->spotipy) (3.4.2)\n",
            "Requirement already satisfied: idna<4,>=2.5 in /usr/local/lib/python3.11/dist-packages (from requests>=2.25.0->spotipy) (3.10)\n",
            "Requirement already satisfied: certifi>=2017.4.17 in /usr/local/lib/python3.11/dist-packages (from requests>=2.25.0->spotipy) (2025.4.26)\n",
            "Downloading spotipy-2.25.1-py3-none-any.whl (31 kB)\n",
            "Downloading python_dotenv-1.1.0-py3-none-any.whl (20 kB)\n",
            "Downloading redis-6.0.0-py3-none-any.whl (268 kB)\n",
            "\u001b[2K   \u001b[90m━━━━━━━━━━━━━━━━━━━━━━━━━━━━━━━━━━━━━━━━\u001b[0m \u001b[32m268.9/268.9 kB\u001b[0m \u001b[31m6.0 MB/s\u001b[0m eta \u001b[36m0:00:00\u001b[0m\n",
            "\u001b[?25hInstalling collected packages: redis, python-dotenv, spotipy\n",
            "Successfully installed python-dotenv-1.1.0 redis-6.0.0 spotipy-2.25.1\n",
            "アーティスト名: sakanaction\n",
            "フォロワー数: 1,539,690\n",
            "Spotifyページ: https://open.spotify.com/artist/0hCWVMGGQnRVfDgmhwLIxq\n"
          ]
        }
      ],
      "source": [
        "# ✅ Colab用：必要ライブラリをインストール（初回のみ）\n",
        "!pip install spotipy python-dotenv\n",
        "\n",
        "# ✅ ライブラリ読み込み\n",
        "import spotipy\n",
        "from spotipy.oauth2 import SpotifyClientCredentials\n",
        "import os\n",
        "\n",
        "# ✅ 手動でトークンを埋め込む（.envは使わず）\n",
        "os.environ[\"SPOTIPY_CLIENT_ID\"] = \"fbbf328da557467eba23f81ff07ef063\"\n",
        "os.environ[\"SPOTIPY_CLIENT_SECRET\"] = \"4df8f23e89cd44a78b5aebd9fe68ddbb\"\n",
        "\n",
        "# ✅ 認証マネージャー作成\n",
        "auth_manager = SpotifyClientCredentials()\n",
        "sp = spotipy.Spotify(auth_manager=auth_manager)\n",
        "\n",
        "# ✅ 任意のアーティスト名で検索（例：サカナクション）\n",
        "query = \"サカナクション\"\n",
        "result = sp.search(q=query, type=\"artist\", limit=1)\n",
        "\n",
        "# ✅ 検索結果の表示\n",
        "artist = result['artists']['items'][0]\n",
        "print(f\"アーティスト名: {artist['name']}\")\n",
        "print(f\"フォロワー数: {artist['followers']['total']:,}\")\n",
        "print(f\"Spotifyページ: {artist['external_urls']['spotify']}\")\n"
      ]
    },
    {
      "cell_type": "markdown",
      "source": [],
      "metadata": {
        "id": "-17bRfdaijz7"
      },
      "id": "-17bRfdaijz7"
    },
    {
      "cell_type": "code",
      "source": [
        "# 初回だけ必要\n",
        "#!pip install spotipy\n",
        "\n",
        "# ライブラリのインポート\n",
        "import spotipy\n",
        "from spotipy.oauth2 import SpotifyClientCredentials\n",
        "import pandas as pd\n",
        "\n",
        "# Spotify APIの認証（取得済みのIDとSecretを使う）\n",
        "client_id = \"fbbf328da557467eba23f81ff07ef063\"\n",
        "client_secret = \"4df8f23e89cd44a78b5aebd9fe68ddbb\"\n",
        "\n",
        "sp = spotipy.Spotify(auth_manager=SpotifyClientCredentials(client_id=client_id,\n",
        "                                                           client_secret=client_secret))\n",
        "\n",
        "# URI例（Sheetsからコピペで数曲分）\n",
        "track_ids = [\n",
        "    'spotify:track:3n3Ppam7vgaVa1iaRUc9Lp',  # 例：Eminem - Lose Yourself\n",
        "    'spotify:track:7ouMYWpwJ422jRcDASZB7P'   # 例：Dua Lipa - Levitating\n",
        "]\n",
        "\n",
        "# audio featuresを取得\n",
        "features = [sp.audio_features(track_id)[0] for track_id in track_ids]\n",
        "df = pd.DataFrame(features)\n",
        "\n",
        "# 表示\n",
        "df[[\"id\", \"danceability\", \"energy\", \"valence\", \"instrumentalness\", \"acousticness\", \"popularity\"]]\n"
      ],
      "metadata": {
        "id": "TkJIOYsSik0q"
      },
      "id": "TkJIOYsSik0q",
      "execution_count": null,
      "outputs": []
    },
    {
      "cell_type": "code",
      "execution_count": null,
      "id": "1701b779",
      "metadata": {
        "vscode": {
          "languageId": "plaintext"
        },
        "id": "1701b779"
      },
      "outputs": [],
      "source": []
    }
  ],
  "metadata": {
    "language_info": {
      "name": "python"
    },
    "colab": {
      "provenance": []
    },
    "kernelspec": {
      "name": "python3",
      "display_name": "Python 3"
    }
  },
  "nbformat": 4,
  "nbformat_minor": 5
}